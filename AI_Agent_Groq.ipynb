{
  "nbformat": 4,
  "nbformat_minor": 0,
  "metadata": {
    "colab": {
      "private_outputs": true,
      "provenance": [],
      "authorship_tag": "ABX9TyPfkDbrLWQ3m+MmWTssYmUE",
      "include_colab_link": true
    },
    "kernelspec": {
      "name": "python3",
      "display_name": "Python 3"
    },
    "language_info": {
      "name": "python"
    }
  },
  "cells": [
    {
      "cell_type": "markdown",
      "metadata": {
        "id": "view-in-github",
        "colab_type": "text"
      },
      "source": [
        "<a href=\"https://colab.research.google.com/github/JyotiChowrasia05/Finance_Agentic_AI/blob/main/AI_Agent_Groq.ipynb\" target=\"_parent\"><img src=\"https://colab.research.google.com/assets/colab-badge.svg\" alt=\"Open In Colab\"/></a>"
      ]
    },
    {
      "cell_type": "code",
      "execution_count": null,
      "metadata": {
        "id": "7vjTtLrmaQer"
      },
      "outputs": [],
      "source": [
        "! pip install phi groq"
      ]
    },
    {
      "cell_type": "code",
      "source": [],
      "metadata": {
        "id": "HG_4mkk5ahxb"
      },
      "execution_count": null,
      "outputs": []
    }
  ]
}